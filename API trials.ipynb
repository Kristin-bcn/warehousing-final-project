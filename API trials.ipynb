{
 "cells": [
  {
   "cell_type": "code",
   "execution_count": 1,
   "metadata": {},
   "outputs": [],
   "source": [
    "import numpy as np\n",
    "import requests\n",
    "import pandas as pd\n",
    "from datetime import datetime\n",
    "import mysql.connector\n",
    "#import schedule\n",
    "import time"
   ]
  },
  {
   "cell_type": "markdown",
   "metadata": {},
   "source": [
    "## Connecting to MariaDB"
   ]
  },
  {
   "cell_type": "code",
   "execution_count": null,
   "metadata": {},
   "outputs": [],
   "source": [
    "# Vivek's configuration\n",
    "config = {\n",
    "  'user': 'newuser',\n",
    "  'password': 'newpassword',\n",
    "  'host': '0.0.0.0',\n",
    "  'database': 'test',\n",
    "  'raise_on_warnings': True\n",
    "}\n",
    "\n",
    "cnx = mysql.connector.connect(**config)\n",
    "\n",
    "cnx.close()"
   ]
  },
  {
   "cell_type": "code",
   "execution_count": 2,
   "metadata": {},
   "outputs": [],
   "source": [
    "#Kristin's/Yabra's configuration\n",
    "cnx = mysql.connector.connect(user='warehousing_team', password='nandan123', database='test', host = '172.17.0.3')\n",
    "cursor = cnx.cursor()"
   ]
  },
  {
   "cell_type": "markdown",
   "metadata": {},
   "source": [
    "## 311 Calls"
   ]
  },
  {
   "cell_type": "code",
   "execution_count": 3,
   "metadata": {},
   "outputs": [],
   "source": [
    "#get data through API\n",
    "with open(\"app_token.txt\") as file: app_token = file.readline().rstrip()\n",
    "\n",
    "# HTTPS address to access the 311 data\n",
    "url = \"https://data.cityofnewyork.us/resource/erm2-nwe9.json?\"\n",
    "querry = \"$where=created_date between '2019-11-02T00:00:00' and '2019-11-09T00:00:00'&$limit=50000\"\n",
    "querry_url = url + \"$$app_token=\" + app_token + \"&\" + querry\n",
    "response = requests.get(querry_url)\n",
    "calls_311 = response.json()"
   ]
  },
  {
   "cell_type": "code",
   "execution_count": 4,
   "metadata": {},
   "outputs": [
    {
     "data": {
      "text/plain": [
       "{'unique_key': '44891423',\n",
       " 'created_date': '2019-11-08T23:58:55.000',\n",
       " 'closed_date': '2019-11-09T09:09:36.000',\n",
       " 'agency': 'NYPD',\n",
       " 'agency_name': 'New York City Police Department',\n",
       " 'complaint_type': 'Abandoned Vehicle',\n",
       " 'descriptor': 'With License Plate',\n",
       " 'location_type': 'Street/Sidewalk',\n",
       " 'incident_zip': '11379',\n",
       " 'incident_address': '77-23 PENELOPE AVENUE',\n",
       " 'street_name': 'PENELOPE AVENUE',\n",
       " 'cross_street_1': '77 STREET',\n",
       " 'cross_street_2': '77 PLACE',\n",
       " 'intersection_street_1': '77 STREET',\n",
       " 'intersection_street_2': '77 PLACE',\n",
       " 'city': 'MIDDLE VILLAGE',\n",
       " 'landmark': 'PENELOPE AVENUE',\n",
       " 'status': 'Closed',\n",
       " 'resolution_description': 'The Police Department responded to the complaint and with the information available observed no evid',\n",
       " 'resolution_action_updated_date': '2019-11-09T14:09:38.000',\n",
       " 'community_board': '05 QUEENS',\n",
       " 'borough': 'QUEENS',\n",
       " 'x_coordinate_state_plane': '1018291',\n",
       " 'y_coordinate_state_plane': '200979',\n",
       " 'open_data_channel_type': 'MOBILE',\n",
       " 'park_facility_name': 'Unspecified',\n",
       " 'park_borough': 'QUEENS',\n",
       " 'latitude': '40.71825216590569',\n",
       " 'longitude': '-73.87719910662294',\n",
       " 'location': {'latitude': '40.71825216590569',\n",
       "  'longitude': '-73.87719910662294',\n",
       "  'human_address': '{\"address\": \"\", \"city\": \"\", \"state\": \"\", \"zip\": \"\"}'}}"
      ]
     },
     "execution_count": 4,
     "metadata": {},
     "output_type": "execute_result"
    }
   ],
   "source": [
    "calls_311[-1]"
   ]
  },
  {
   "cell_type": "code",
   "execution_count": 5,
   "metadata": {},
   "outputs": [],
   "source": [
    "#Select keys and extract appropriate data\n",
    "keys_311 = ['unique_key', \n",
    "            'created_date',\n",
    "            'closed_date',\n",
    "            'agency',\n",
    "            'agency_name',\n",
    "            'complaint_type',\n",
    "            'descriptor',\n",
    "            'incident_zip',\n",
    "            'borough',\n",
    "           'facility_type',\n",
    "           'location_type',\n",
    "            'status',\n",
    "           'due_date',\n",
    "            'resolution_action_updated_date',\n",
    "            'x_coordinate_state_plane',\n",
    "            'y_coordinate_state_plane',\n",
    "            'open_data_channel_type',\n",
    "            'latitude',\n",
    "            'longitude']\n",
    "\n",
    "data_311 = []\n",
    "for call in calls_311:\n",
    "    dict_calls = {'unique_key': call['unique_key']}\n",
    "    for key in keys_311:\n",
    "       if np.sum([i==key for i in call.keys()])==1: \n",
    "           dict_calls[key] = call[key]\n",
    "       else:\n",
    "            dict_calls[key] = None\n",
    "    data_311.append(dict_calls)"
   ]
  },
  {
   "cell_type": "code",
   "execution_count": 6,
   "metadata": {},
   "outputs": [],
   "source": [
    "#cnx = mysql.connector.connect(**config)\n",
    "#cursor = cnx.cursor()\n",
    "\n",
    "calls_sql = (\n",
    "   \"insert into 311_calls\"\n",
    "   \"(unique_key, created_date, closed_date, agency, agency_name, complaint_type,\"\n",
    "            \"descriptor, location_type, incident_zip, borough, facility_type,\"\n",
    "            \"status, due_date, resolution_action_updated_date, x_coordinate_state_plane,\"\n",
    "            \"y_coordinate_state_plane, open_data_channel_type, latitude, longitude)\"\n",
    "   \"values (%(unique_key)s, %(created_date)s, %(closed_date)s, %(agency)s, %(agency_name)s, %(complaint_type)s,\"\n",
    "            \"%(descriptor)s, %(location_type)s, %(incident_zip)s, %(borough)s, %(facility_type)s,\"\n",
    "            \"%(status)s, %(due_date)s, %(resolution_action_updated_date)s, %(x_coordinate_state_plane)s,\"\n",
    "            \"%(y_coordinate_state_plane)s, %(open_data_channel_type)s, %(latitude)s, %(longitude)s)\")\n",
    "\n",
    "for call in data_311:\n",
    "   cursor.execute(calls_sql, call)\n",
    "\n",
    "cnx.commit()\n",
    "#cursor.close()\n",
    "#cnx.close()"
   ]
  },
  {
   "cell_type": "markdown",
   "metadata": {},
   "source": [
    "## Accidents"
   ]
  },
  {
   "cell_type": "code",
   "execution_count": 14,
   "metadata": {},
   "outputs": [],
   "source": [
    "# 1. Get the data through API\n",
    "with open(\"app_token.txt\") as file: app_token = file.readline().rstrip()\n",
    "\n",
    "# HTTPS address to access the 311 data\n",
    "url_acc = \"https://data.cityofnewyork.us/resource/h9gi-nx95.json?\"\n",
    "querry_acc = \"$where=accident_date > '2019-01-01T00:00:00'&$limit=50000\"\n",
    "querry_url_acc = url_acc + \"$$app_token=\" + app_token + \"&\" + querry_acc\n",
    "response = requests.get(querry_url_acc)\n",
    "acc = response.json()"
   ]
  },
  {
   "cell_type": "code",
   "execution_count": 17,
   "metadata": {},
   "outputs": [
    {
     "data": {
      "text/plain": [
       "{'accident_date': '2019-01-02T00:00:00.000',\n",
       " 'accident_time': '2:30',\n",
       " 'latitude': '40.8957250',\n",
       " 'longitude': '-73.8748200',\n",
       " 'location': {'type': 'Point', 'coordinates': [-73.87482, 40.895725]},\n",
       " 'on_street_name': 'EAST 233 STREET                 ',\n",
       " 'number_of_persons_injured': '1',\n",
       " 'number_of_persons_killed': '0',\n",
       " 'number_of_pedestrians_injured': '0',\n",
       " 'number_of_pedestrians_killed': '0',\n",
       " 'number_of_cyclist_injured': '0',\n",
       " 'number_of_cyclist_killed': '0',\n",
       " 'number_of_motorist_injured': '1',\n",
       " 'number_of_motorist_killed': '0',\n",
       " 'contributing_factor_vehicle_1': 'Driver Inattention/Distraction',\n",
       " 'contributing_factor_vehicle_2': 'Unspecified',\n",
       " 'collision_id': '4060646',\n",
       " 'vehicle_type_code1': 'Station Wagon/Sport Utility Vehicle',\n",
       " 'vehicle_type_code2': 'Sedan'}"
      ]
     },
     "execution_count": 17,
     "metadata": {},
     "output_type": "execute_result"
    }
   ],
   "source": [
    "acc[20]"
   ]
  },
  {
   "cell_type": "code",
   "execution_count": 18,
   "metadata": {},
   "outputs": [],
   "source": [
    "# 2.Select keys and extract appropriate data\n",
    "keys_acc =  [\"collision_id\", \"accident_date\", \"accident_time\", \"borough\", \"zip_code\", \"latitude\", \"longitude\", \n",
    "             \"number_of_persons_injured\", \"number_of_persons_killed\", \n",
    "             \"number_pedestrians_injured\", \"number_of_pedestrians_killed\", \n",
    "             \"number_of_cyclists_injured\", \"number_of_cyclists_killed\", \n",
    "             \"number_of_motorists_injured\", \"number_of_motorists_killed\", \n",
    "             \"contributing_factor_vehicle_1\", \"contributing_factor_vehicle_2\"]\n",
    "data_acc = []\n",
    "for a in acc:\n",
    "    #start by adding the collission_id to the dictionary\n",
    "    dict_acc = {'collision_id': a['collision_id']}\n",
    "    for key in keys_acc:\n",
    "       if np.sum([k == key for k in a.keys()])== 1: \n",
    "           dict_acc[key] = a[key]\n",
    "       else:\n",
    "            dict_acc[key] = None\n",
    "    data_acc.append(dict_acc)"
   ]
  },
  {
   "cell_type": "code",
   "execution_count": 19,
   "metadata": {},
   "outputs": [
    {
     "data": {
      "text/plain": [
       "17"
      ]
     },
     "execution_count": 19,
     "metadata": {},
     "output_type": "execute_result"
    }
   ],
   "source": [
    "len(data_acc[0])"
   ]
  },
  {
   "cell_type": "code",
   "execution_count": 20,
   "metadata": {},
   "outputs": [
    {
     "data": {
      "text/plain": [
       "{'collision_id': '4108751',\n",
       " 'accident_date': '2019-03-31T00:00:00.000',\n",
       " 'accident_time': '4:00',\n",
       " 'borough': None,\n",
       " 'zip_code': None,\n",
       " 'latitude': '40.8793200',\n",
       " 'longitude': '-73.8698040',\n",
       " 'number_of_persons_injured': '0',\n",
       " 'number_of_persons_killed': '0',\n",
       " 'number_pedestrians_injured': None,\n",
       " 'number_of_pedestrians_killed': '0',\n",
       " 'number_of_cyclists_injured': None,\n",
       " 'number_of_cyclists_killed': None,\n",
       " 'number_of_motorists_injured': None,\n",
       " 'number_of_motorists_killed': None,\n",
       " 'contributing_factor_vehicle_1': 'Fell Asleep',\n",
       " 'contributing_factor_vehicle_2': None}"
      ]
     },
     "execution_count": 20,
     "metadata": {},
     "output_type": "execute_result"
    }
   ],
   "source": [
    "data_acc[-1]"
   ]
  },
  {
   "cell_type": "code",
   "execution_count": 21,
   "metadata": {},
   "outputs": [],
   "source": [
    "# 3. Get data into MariaDB table\n",
    "\n",
    "#Define the insert querry\n",
    "acc_sql = (\n",
    "   \"insert into accidents\"\n",
    "   \"(collision_id, accident_date, accident_time, borough, zip_code, latitude, longitude,\"\n",
    "    \"number_of_persons_injured, number_of_persons_killed, \" \n",
    "    \"number_pedestrians_injured, number_of_pedestrians_killed, \" \n",
    "    \"number_of_cyclists_injured, number_of_cyclists_killed, \" \n",
    "    \"number_of_motorists_injured, number_of_motorists_killed, \" \n",
    "    \"contributing_factor_vehicle_1, contributing_factor_vehicle_2)\"\n",
    "   \n",
    "    \"values (%(collision_id)s, %(accident_date)s, %(accident_time)s, %(borough)s, %(zip_code)s, %(latitude)s,\"\n",
    "    \"%(longitude)s, %(number_of_persons_injured)s, %(number_of_persons_killed)s,\" \n",
    "    \"%(number_pedestrians_injured)s, %(number_of_pedestrians_killed)s, %(number_of_cyclists_injured)s,\" \n",
    "    \"%(number_of_cyclists_killed)s, %(number_of_motorists_injured)s, %(number_of_motorists_killed)s,\"\n",
    "    \"%(contributing_factor_vehicle_1)s, %(contributing_factor_vehicle_2)s)\")\n",
    "\n",
    "#Execute the querry\n",
    "for a in data_acc:\n",
    "   cursor.execute(acc_sql, a)"
   ]
  },
  {
   "cell_type": "code",
   "execution_count": 22,
   "metadata": {},
   "outputs": [],
   "source": [
    "# 4. Commit changes and close connection with the database\n",
    "cnx.commit()\n",
    "cursor.close()\n",
    "cnx.close()"
   ]
  },
  {
   "cell_type": "markdown",
   "metadata": {},
   "source": [
    "## Schedualing"
   ]
  },
  {
   "cell_type": "code",
   "execution_count": null,
   "metadata": {},
   "outputs": [],
   "source": [
    "def job():\n",
    "    print(\"I'm working...\")\n",
    "    \n",
    "schedule.every(2).seconds.do(job)\n",
    "\n",
    "# schedule.every(10).minutes.do(job)\n",
    "# schedule.every().hour.do(job)\n",
    "# schedule.every().day.at(\"10:30\").do(job)\n",
    "# schedule.every(5).to(10).minutes.do(job)\n",
    "# schedule.every().monday.do(job)\n",
    "# schedule.every().wednesday.at(\"13:15\").do(job)\n",
    "# schedule.every().minute.at(\":17\").do(job)\n",
    "\n",
    "while True:\n",
    "    schedule.run_pending()\n",
    "    time.sleep(1)\n",
    "#sometimes the job runs more than once (???)"
   ]
  }
 ],
 "metadata": {
  "kernelspec": {
   "display_name": "Python 3",
   "language": "python",
   "name": "python3"
  },
  "language_info": {
   "codemirror_mode": {
    "name": "ipython",
    "version": 3
   },
   "file_extension": ".py",
   "mimetype": "text/x-python",
   "name": "python",
   "nbconvert_exporter": "python",
   "pygments_lexer": "ipython3",
   "version": "3.7.3"
  },
  "toc": {
   "base_numbering": 1,
   "nav_menu": {},
   "number_sections": true,
   "sideBar": true,
   "skip_h1_title": false,
   "title_cell": "Table of Contents",
   "title_sidebar": "Contents",
   "toc_cell": false,
   "toc_position": {},
   "toc_section_display": true,
   "toc_window_display": false
  }
 },
 "nbformat": 4,
 "nbformat_minor": 2
}

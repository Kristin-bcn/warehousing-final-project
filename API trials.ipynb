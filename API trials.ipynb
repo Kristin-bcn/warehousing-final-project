{
 "cells": [
  {
   "cell_type": "code",
   "execution_count": null,
   "metadata": {},
   "outputs": [],
   "source": [
    "import numpy as np\n",
    "import requests\n",
    "import pandas as pd\n",
    "from datetime import datetime\n",
    "import mysql.connector\n",
    "import schedule\n",
    "import time"
   ]
  },
  {
   "cell_type": "code",
   "execution_count": null,
   "metadata": {},
   "outputs": [],
   "source": [
    "def job():\n",
    "    print(\"I'm working...\")\n",
    "    \n",
    "schedule.every(2).seconds.do(job)\n",
    "\n",
    "# schedule.every(10).minutes.do(job)\n",
    "# schedule.every().hour.do(job)\n",
    "# schedule.every().day.at(\"10:30\").do(job)\n",
    "# schedule.every(5).to(10).minutes.do(job)\n",
    "# schedule.every().monday.do(job)\n",
    "# schedule.every().wednesday.at(\"13:15\").do(job)\n",
    "# schedule.every().minute.at(\":17\").do(job)\n",
    "\n",
    "while True:\n",
    "    schedule.run_pending()\n",
    "    time.sleep(1)\n",
    "#sometimes the job runs more than once (???)"
   ]
  },
  {
   "cell_type": "code",
   "execution_count": null,
   "metadata": {},
   "outputs": [],
   "source": [
    "config = {\n",
    "  'user': 'newuser',\n",
    "  'password': 'newpassword',\n",
    "  'host': '0.0.0.0',\n",
    "  'database': 'test',\n",
    "  'raise_on_warnings': True\n",
    "}\n",
    "\n",
    "cnx = mysql.connector.connect(**config)\n",
    "\n",
    "cnx.close()"
   ]
  },
  {
   "cell_type": "code",
   "execution_count": null,
   "metadata": {},
   "outputs": [],
   "source": [
    "#get data through API\n",
    "with open(\"app_token.txt\") as file: app_token = file.readline().rstrip()\n",
    "\n",
    "# HTTPS address to access the 311 data\n",
    "url = \"https://data.cityofnewyork.us/resource/erm2-nwe9.json?\"\n",
    "querry = \"$where=created_date between '2019-11-02T00:00:00' and '2019-11-09T00:00:00'&$limit=50000\"\n",
    "querry_url = url + \"$$app_token=\" + app_token + \"&\" + querry\n",
    "response = requests.get(querry_url)\n",
    "calls_311 = response.json()"
   ]
  },
  {
   "cell_type": "code",
   "execution_count": null,
   "metadata": {},
   "outputs": [],
   "source": [
    "#Select keys and extract appropriate data\n",
    "\n",
    "keys_311 = ['unique_key', \n",
    "            'created_date',\n",
    "            'closed_date',\n",
    "            'agency',\n",
    "            'agency_name',\n",
    "            'complaint_type',\n",
    "            'descriptor',\n",
    "            'incident_zip',\n",
    "            'borough',\n",
    "           'facility_type',\n",
    "           'location_type',\n",
    "            'status',\n",
    "           'due_date',\n",
    "            'resolution_action_updated_date',\n",
    "            'x_coordinate_state_plane',\n",
    "            'y_coordinate_state_plane',\n",
    "            'open_data_channel_type',\n",
    "            'latitude',\n",
    "            'longitude']\n",
    "\n",
    "data_311 = []\n",
    "for call in calls_311:\n",
    "    dict_calls = {'unique_key': call['unique_key']}\n",
    "    for key in keys_311:\n",
    "       if np.sum([i==key for i in call.keys()])==1: \n",
    "           dict_calls[key] = call[key]\n",
    "       else:\n",
    "            dict_calls[key] = None\n",
    "    data_311.append(dict_calls)"
   ]
  },
  {
   "cell_type": "code",
   "execution_count": null,
   "metadata": {},
   "outputs": [],
   "source": [
    "cnx = mysql.connector.connect(**config)\n",
    "cursor = cnx.cursor()\n",
    "\n",
    "calls_sql = (\n",
    "   \"insert into 311_calls\"\n",
    "   \"(unique_key, created_date, closed_date, agency, agency_name, complaint_type,\"\n",
    "            \"descriptor, location_type, incident_zip, borough, facility_type,\"\n",
    "            \"status, due_date, resolution_action_updated_date, x_coordinate_state_plane,\"\n",
    "            \"y_coordinate_state_plane, open_data_channel_type, latitude, longitude)\"\n",
    "   \"values (%(unique_key)s, %(created_date)s, %(closed_date)s, %(agency)s, %(agency_name)s, %(complaint_type)s,\"\n",
    "            \"%(descriptor)s, %(location_type)s, %(incident_zip)s, %(borough)s, %(facility_type)s,\"\n",
    "            \"%(status)s, %(due_date)s, %(resolution_action_updated_date)s, %(x_coordinate_state_plane)s,\"\n",
    "            \"%(y_coordinate_state_plane)s, %(open_data_channel_type)s, %(latitude)s, %(longitude)s)\")\n",
    "\n",
    "for call in data_311:\n",
    "   cursor.execute(calls_sql, call)\n",
    "\n",
    "cnx.commit()\n",
    "cursor.close()\n",
    "cnx.close()"
   ]
  }
 ],
 "metadata": {
  "kernelspec": {
   "display_name": "Python 3",
   "language": "python",
   "name": "python3"
  },
  "language_info": {
   "codemirror_mode": {
    "name": "ipython",
    "version": 3
   },
   "file_extension": ".py",
   "mimetype": "text/x-python",
   "name": "python",
   "nbconvert_exporter": "python",
   "pygments_lexer": "ipython3",
   "version": "3.7.1"
  },
  "toc": {
   "base_numbering": 1,
   "nav_menu": {},
   "number_sections": true,
   "sideBar": true,
   "skip_h1_title": false,
   "title_cell": "Table of Contents",
   "title_sidebar": "Contents",
   "toc_cell": false,
   "toc_position": {},
   "toc_section_display": true,
   "toc_window_display": false
  }
 },
 "nbformat": 4,
 "nbformat_minor": 2
}
